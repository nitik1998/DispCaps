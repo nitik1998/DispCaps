{
 "cells": [
  {
   "cell_type": "code",
   "execution_count": 1,
   "id": "d2ffe428",
   "metadata": {},
   "outputs": [],
   "source": [
    "import torch\n",
    "import os\n",
    "import torch.utils.data as data\n",
    "import torchvision.transforms as transforms\n",
    "import random\n",
    "from PIL import Image,ImageOps\n",
    "import numpy as np\n",
    "\n",
    "import torch.nn as nn\n",
    "import torch.functional as F\n",
    "import math\n",
    "from prototype2 import Encoder_Decoder"
   ]
  },
  {
   "cell_type": "code",
   "execution_count": 2,
   "id": "0efcf071",
   "metadata": {},
   "outputs": [
    {
     "name": "stdout",
     "output_type": "stream",
     "text": [
      "Allocated: 0.0 GB\n"
     ]
    }
   ],
   "source": [
    "model=Encoder_Decoder().cuda()\n",
    "print('Allocated:', round(torch.cuda.memory_allocated(0)/1024**3,1), 'GB')\n"
   ]
  },
  {
   "cell_type": "code",
   "execution_count": 3,
   "id": "96ac6051",
   "metadata": {},
   "outputs": [],
   "source": [
    "img_l=torch.randn((1,3,368,1024))\n",
    "img_r=torch.randn((1,3,368,1024))"
   ]
  },
  {
   "cell_type": "code",
   "execution_count": 4,
   "id": "b6e85230",
   "metadata": {},
   "outputs": [],
   "source": [
    "#outputs=model.forward(img_l,img_r)\n",
    "#print(outputs.shape)"
   ]
  },
  {
   "cell_type": "code",
   "execution_count": 5,
   "id": "313f6a4f",
   "metadata": {},
   "outputs": [
    {
     "name": "stdout",
     "output_type": "stream",
     "text": [
      "NVIDIA TITAN Xp\n",
      "Memory Usage:\n",
      "Allocated: 0.0 GB\n",
      "Cached:    0.0 GB\n"
     ]
    },
    {
     "name": "stderr",
     "output_type": "stream",
     "text": [
      "/home/nitik/anaconda3/lib/python3.8/site-packages/torch/cuda/memory.py:373: FutureWarning: torch.cuda.memory_cached has been renamed to torch.cuda.memory_reserved\n",
      "  warnings.warn(\n"
     ]
    }
   ],
   "source": [
    "\n",
    "# setting device on GPU if available, else CPU\n",
    "\n",
    "print(torch.cuda.get_device_name(0))\n",
    "print('Memory Usage:')\n",
    "print('Allocated:', round(torch.cuda.memory_allocated(0)/1024**3,1), 'GB')\n",
    "print('Cached:   ', round(torch.cuda.memory_cached(0)/1024**3,1), 'GB')"
   ]
  },
  {
   "cell_type": "code",
   "execution_count": null,
   "id": "ce365ed2",
   "metadata": {},
   "outputs": [],
   "source": []
  }
 ],
 "metadata": {
  "kernelspec": {
   "display_name": "Python 3",
   "language": "python",
   "name": "python3"
  },
  "language_info": {
   "codemirror_mode": {
    "name": "ipython",
    "version": 3
   },
   "file_extension": ".py",
   "mimetype": "text/x-python",
   "name": "python",
   "nbconvert_exporter": "python",
   "pygments_lexer": "ipython3",
   "version": "3.8.5"
  }
 },
 "nbformat": 4,
 "nbformat_minor": 5
}
